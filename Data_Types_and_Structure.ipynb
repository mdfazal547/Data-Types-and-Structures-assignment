{
  "nbformat": 4,
  "nbformat_minor": 0,
  "metadata": {
    "colab": {
      "provenance": []
    },
    "kernelspec": {
      "name": "python3",
      "display_name": "Python 3"
    },
    "language_info": {
      "name": "python"
    }
  },
  "cells": [
    {
      "cell_type": "markdown",
      "source": [
        "# Q1  What are data structures, and why are they important ?"
      ],
      "metadata": {
        "id": "r9wQIc-OfY3g"
      }
    },
    {
      "cell_type": "markdown",
      "source": [
        "Data structures are ways to store, organize, and manage data in a computer so that it can be used efficiently. Think of a data structure like a container — depending on what you're doing, you choose the container that best fits your needs.\n",
        "\n",
        "Some common types of data structures are:\n",
        "\n",
        "Array: A collection of elements stored in a specific order.\n",
        "\n",
        "Linked List: A chain of elements where each element points to the next.\n",
        "\n",
        "Stack: A \"last in, first out\" (LIFO) structure.\n",
        "\n",
        "Queue: A \"first in, first out\" (FIFO) structure.\n",
        "\n",
        "Tree: A hierarchical structure with nodes.\n",
        "\n",
        "Graph: A set of nodes connected by edges (used in maps, social networks, etc.).\n",
        "\n",
        "Hash Table (or Dictionary): A structure that maps keys to values for quick lookup.\n",
        "\n",
        "# Why Are Data Structures Important?\n",
        "\n",
        "1. The right data structure can make your program run faster and use less memory. For example, searching for a number in a sorted array is much quicker than searching in an unsorted one\n",
        "\n",
        "2.Choosing the right structure ensures you don’t waste memory. A linked list, for example, is more memory-efficient than an array when the size of the data isn’t known beforehand.\n",
        "\n",
        "\n"
      ],
      "metadata": {
        "id": "yWaOf72MfryJ"
      }
    },
    {
      "cell_type": "markdown",
      "source": [
        "# Q2. Explain the difference between mutable and immutable data types with examples"
      ],
      "metadata": {
        "id": "qPjQnRYCg3kK"
      }
    },
    {
      "cell_type": "markdown",
      "source": [
        "**Mutable Data Types**\n",
        "\n",
        "..Mutable data types are those that can be changed after they are created. You can modify, add, or remove elements without changing the identity (memory address) of the object.\n",
        "\n",
        "**example**\n",
        "\n",
        "1.list\n",
        "my_list=[1,2,3]\n",
        "\n",
        "my_list.append(4)\n",
        "\n",
        "print(my_list) #output: [1,2,3,4]\n",
        "\n",
        "2.Dictionary\n",
        "\n",
        "my_dict={'name':'fazal'}\n",
        "\n",
        "my_dict['age']=22\n",
        "\n",
        "print(my_dict) #output: {'name':'fazal','age':22}\n",
        "\n",
        "3.Set\n",
        "\n",
        "set={1,2}\n",
        "\n",
        "set.add(3)\n",
        "\n",
        "print(set) #output: {1,2,3}\n",
        "\n",
        "**Immutable Data Types**:\n",
        "\n",
        "Immutable data types are those that cannot be changed after they are created. If you try to modify them, a new object is created instead.\n",
        "\n",
        "example:\n",
        "\n",
        "String:\n",
        "name=\"fazal\"\n",
        "\n",
        "name=name+\"khan\"\n",
        "\n",
        "print(name) # output: fazal khan (new string created)\n",
        "\n",
        "my_tuple=(1,2,3)\n",
        "\n",
        "my_tuple[0]=10 ## this will cause an error\n"
      ],
      "metadata": {
        "id": "UAhYCZheh9rD"
      }
    },
    {
      "cell_type": "markdown",
      "source": [
        "# Q3.What are the main differences between lists and tuples in Python ?"
      ],
      "metadata": {
        "id": "zz6VnBFaG3-e"
      }
    },
    {
      "cell_type": "markdown",
      "source": [
        "**List:**\n",
        "\n",
        "A list is a mutable, ordered collection of items in Python. This means you can change, add, or remove elements after the list is created.\n",
        "\n",
        ".syntax : square brackets[]\n",
        "\n",
        ".performance: slightly slower(more flexible)\n",
        "\n",
        "**Tuple:**\n",
        "\n",
        "A tuple is an immutable, ordered collection of items in Python. Once a tuple is created, you cannot change, add, or remove its elements.\n",
        "\n",
        ".syntax: parentheses;()\n",
        "\n",
        ".performance: faster(fixed size,less memory)\n",
        "\n"
      ],
      "metadata": {
        "id": "3P9ed0wbG-wl"
      }
    },
    {
      "cell_type": "markdown",
      "source": [
        "# Q4.Describe how dictionaries store data."
      ],
      "metadata": {
        "id": "D569G0jrJJof"
      }
    },
    {
      "cell_type": "markdown",
      "source": [
        "A dictionary in Python is an unordered collection of key-value pairs. Each key is unique, and it maps to a specific value.\n",
        "\n",
        ".**How Dictionaries Store Data (Internally)**\n",
        "\n",
        "Dictionaries store data using a data structure called a hash table.\n",
        "\n",
        "**Keys are hashed:**\n",
        "\n",
        "Python takes your key (e.g. \"name\"), and runs it through a function called a hash function.\n",
        "\n",
        "This function converts the key into a number called a hash value.\n",
        "\n",
        "**Hash value determines the position:**\n",
        "\n",
        "That number is used to decide where the key-value pair should be placed in memory (in a bucket or slot).\n",
        "\n",
        "**Value is stored with the key:**\n",
        "\n",
        "The value (e.g. \"Ali\") is stored along with the key in that memory location.\n",
        "\n",
        "**Quick access:**\n",
        "\n",
        "When you access a value using its key (my_dict[\"name\"]), Python again hashes the key, finds the slot, and quickly returns the value.\n",
        "\n"
      ],
      "metadata": {
        "id": "LvfmOkLDJQrg"
      }
    },
    {
      "cell_type": "markdown",
      "source": [
        "# Q5. Why might you use a set instead of a list in Python ?"
      ],
      "metadata": {
        "id": "HbaD_uLbKbZI"
      }
    },
    {
      "cell_type": "markdown",
      "source": [
        "# Set:\n",
        "\n",
        "A set is an unordered, mutable collection in Python that does not allow duplicate elements. It is used when you want to store unique items and perform fast lookups or set operations.\n",
        "\n",
        "# List:\n",
        "\n",
        "A list is an ordered, mutable collection that allows duplicate elements. It is used when the order matters and duplicates are acceptable.\n",
        "\n",
        ".**Why Use a Set Instead of a List?**\n",
        "\n",
        ".Set removes duplicates on its own.\n",
        "\n",
        ".List allows duplicates.\n",
        "\n",
        ".my_list = [1, 2, 2, 3]\n",
        "\n",
        "my_set = set(my_list)\n",
        "\n",
        "print(my_set)  # Output: {1, 2, 3}\n",
        "\n",
        ".Sets use a hash table, so checking if an item exists is very fast.\n",
        "\n",
        ".Lists search one item at a time (slower for large data).\n",
        "\n",
        ".my_list = [1, 2, 3, 4, 5]\n",
        "\n",
        "print(3 in my_list)  # Slower\n",
        "\n",
        ".my_set = {1, 2, 3, 4, 5}\n",
        "\n",
        "print(3 in my_set)   # Faster\n",
        "\n"
      ],
      "metadata": {
        "id": "dDeJzDEoLNSO"
      }
    },
    {
      "cell_type": "markdown",
      "source": [
        "# Q6.What is a string in Python, and how is it different from a list ?"
      ],
      "metadata": {
        "id": "bT6mytIWMPgY"
      }
    },
    {
      "cell_type": "markdown",
      "source": [
        "# String:\n",
        "\n",
        ".A string in Python is a sequence of characters, enclosed in single quotes ('), double quotes (\"), or triple quotes (''' or \"\"\").\n",
        "It is used to represent textual data like names, sentences, or symbols\n",
        "\n",
        ".name = \"Ali\"\n",
        "\n",
        "message = 'Hello, world!'\n",
        "\n",
        "# List:\n",
        "\n",
        ".A list in Python is a mutable, ordered collection that can store multiple items of any data type, including numbers, strings, or even other lists.\n",
        "\n",
        "\n",
        ".numbers = [1, 2, 3, 4]\n",
        "\n",
        "names = [\"Ali\", \"Fatima\", \"Zain\"]\n",
        "\n",
        ".\n"
      ],
      "metadata": {
        "id": "uwXiLsz4MY93"
      }
    },
    {
      "cell_type": "markdown",
      "source": [
        "# Q7. How do tuples ensure data integrity in Python ?"
      ],
      "metadata": {
        "id": "0GOkz2oqNTyd"
      }
    },
    {
      "cell_type": "markdown",
      "source": [
        "# .What is Data Integrity:\n",
        "\n",
        ".Data integrity means that the data is accurate, consistent, and protected from being changed accidentally.\n",
        "\n",
        ".**How Tuples Help Ensure Data Integrity in Pytho**n\n",
        "\n",
        ".Tuples help maintain data integrity because they are immutable. This means once you create a tuple, you cannot change its contents — no adding, removing, or changing elements.\n",
        "\n",
        "\n",
        ".Because tuples cannot be modified, they act like read-only containers. This ensures the data inside remains safe and unchanged, either by mistake or by other parts of the program.\n",
        "\n"
      ],
      "metadata": {
        "id": "iI2hAYOxNg0J"
      }
    },
    {
      "cell_type": "markdown",
      "source": [
        "# Q8.What is a hash table, and how does it relate to dictionaries in Python ?"
      ],
      "metadata": {
        "id": "7GBmkyJlgSeO"
      }
    },
    {
      "cell_type": "markdown",
      "source": [
        "A hash table is a data structure that stores data in key-value pairs, allowing fast access, insertion, and deletion — usually in constant time, O(1).\n",
        "\n",
        "It uses a hash function to convert the key into an index in an array where the value is stored.\n",
        "\n",
        ". **How Is This Related to Python Dictionaries?**\n",
        "\n",
        "n Python, a dict (dictionary) is actually implemented using a hash table behind the scenes.\n",
        "\n",
        "Example:\n",
        "\n",
        "fruit_prices = {\n",
        "\n",
        "    \"apple\": 100,\n",
        "\n",
        "    \"banana\": 150\n",
        "}\n"
      ],
      "metadata": {
        "id": "pf6yPR8_gf8O"
      }
    },
    {
      "cell_type": "markdown",
      "source": [
        "# Q9.Can lists contain different data types in Python"
      ],
      "metadata": {
        "id": "8k9EpaG0jZ7m"
      }
    },
    {
      "cell_type": "markdown",
      "source": [
        "Python is a dynamically typed language, which means a list can store mixed data types — such as integers, strings, floats, booleans, other lists, and even functions or objects — all in the same list\n",
        "\n",
        ".Example:\n",
        "\n",
        ".my_list = [42, \"hello\", 3.14, True, [1, 2], {\"key\": \"value\"}, len]\n",
        "\n",
        "print(my_list)\n",
        "\n",
        "output:\n",
        "\n",
        ".[42, 'hello', 3.14, True, [1, 2], {'key': 'value'}, <built-in function len>]\n",
        "\n",
        ".Name : str\n",
        "\n",
        ".Age:int\n",
        "\n",
        ".GPA:float\n",
        "\n",
        ".Enrooled:bool"
      ],
      "metadata": {
        "id": "aXK7TprOj0O6"
      }
    },
    {
      "cell_type": "markdown",
      "source": [
        "# Q10. Explain why strings are immutable in Python\n",
        "\n"
      ],
      "metadata": {
        "id": "Zte3J5ejlTpb"
      }
    },
    {
      "cell_type": "markdown",
      "source": [
        "In Python, strings are immutable, which means once a string is created, it cannot be changed. Any operation that appears to change a string will actually create a new string object.\n",
        "\n",
        ".\n",
        "\n"
      ],
      "metadata": {
        "id": "b3FKCTgZmfFA"
      }
    },
    {
      "cell_type": "markdown",
      "source": [
        "# Q11.What advantages do dictionaries offer over lists for certain tasks ?"
      ],
      "metadata": {
        "id": "kEiAfJDHDept"
      }
    },
    {
      "cell_type": "markdown",
      "source": [
        ".Dictionaries use named keys instead of numeric indexes, which makes code easier to understand.\n",
        "\n",
        ".# Using dictionary\n",
        "\n",
        "person = {\"first_name\": \"John\", \"last_name\": \"Doe\"}\n",
        "\n",
        "print(person[\"first_name\"])  # clear meaning\n",
        "\n",
        "# Using list\n",
        "person_list = [\"John\", \"Doe\"]\n",
        "\n",
        "print(person_list[0])  # less clear unless you remember what index 0 means\n",
        "\n",
        "..You can use almost any immutable type as a key (e.g. strings, numbers, tuples).\n",
        "\n"
      ],
      "metadata": {
        "id": "WEj_OkPbDqI2"
      }
    },
    {
      "cell_type": "markdown",
      "source": [
        "# Q12. Describe a scenario where using a tuple would be preferable over a list"
      ],
      "metadata": {
        "id": "L_cxsJjkEOkv"
      }
    },
    {
      "cell_type": "markdown",
      "source": [
        ".Tuples and lists are both sequences in Python, but a tuple is immutable (cannot be changed), while a list is mutable.\n",
        "\n",
        "\n",
        ".**Scenario Where a Tuple is Preferable:**\n",
        "\n",
        ".Suppose you're writing a function that returns multiple values, like coordinates or a person's record. You know that:\n",
        "\n",
        "The number of items is fixed\n",
        "\n",
        "The values should not be changed\n",
        "\n",
        ".**Why Use a Tuple?**\n",
        "\n",
        ".Coordinates always have exactly two values (lat, long) — fixed size.\n",
        "\n",
        "You don’t want the caller of the function to accidentally modify the values.\n"
      ],
      "metadata": {
        "id": "AWsuk134EVJd"
      }
    },
    {
      "cell_type": "markdown",
      "source": [
        "# Q13.How do sets handle duplicate values in Python ?"
      ],
      "metadata": {
        "id": "LrQ8lAYDE92b"
      }
    },
    {
      "cell_type": "markdown",
      "source": [
        ".In Python, a set is a collection of unique, unordered elements. This means:\n",
        "\n",
        ".my_set = {1, 2, 3, 2, 4, 3}\n",
        "\n",
        "print(my_set)\n",
        "\n",
        ".output: {1, 2, 3, 4}\n",
        "\n",
        ".**What Happens Internally?**\n",
        "\n",
        ".Python uses hashing to store elements in a set.\n",
        "\n",
        "When you add an element, Python checks its hash value.\n",
        "\n",
        "If the hash already exists in the set, it won’t add the duplicate.\n",
        "\n",
        "\n",
        "my_set = set()\n",
        "\n",
        "my_set.add(10)\n",
        "\n",
        "my_set.add(10)  # Duplicate\n",
        "\n",
        "print(my_set)   # Only one 10 is stored\n",
        "\n"
      ],
      "metadata": {
        "id": "h9t8XeESFFGv"
      }
    },
    {
      "cell_type": "markdown",
      "source": [
        "# Q14.P How does the “in” keyword work differently for lists and dictionaries ?"
      ],
      "metadata": {
        "id": "KHfD9eZ0F0qf"
      }
    },
    {
      "cell_type": "markdown",
      "source": [
        ".The in keyword is used to check if a value exists in a sequence (like a list, string, tuple) or a collection (like a dictionary or set).\n",
        "\n",
        "It returns a boolean value:\n",
        "\n",
        "True if the item is found\n",
        "\n",
        "False if it’s not found\n",
        "\n",
        ".**How in Works for Lists**\n",
        "\n",
        ".numbers = [1, 2, 3, 4]\n",
        "\n",
        "print(2 in numbers)     # True\n",
        "\n",
        "print(5 in numbers)     # False\n",
        "\n",
        ".**How in Works for Dictionaries**\n",
        "\n",
        ".person = {\"name\": \"Alice\", \"age\": 30}\n",
        "\n",
        "print(\"name\" in person)       # True\n",
        "\n",
        "print(\"Alice\" in person)      # False\n",
        "\n"
      ],
      "metadata": {
        "id": "uGohgSP2F9TW"
      }
    },
    {
      "cell_type": "markdown",
      "source": [
        "# Q15. Can you modify the elements of a tuple? Explain why or why not"
      ],
      "metadata": {
        "id": "vs1r2oUQGwnm"
      }
    },
    {
      "cell_type": "markdown",
      "source": [
        ".**Can You Modify the Elements of a Tuple?**\n",
        "\n",
        ".No, you cannot modify the elements of a tuple.\n",
        "\n",
        ".Tuples in Python are immutable, which means once they are created, their elements cannot be changed, added, or removed.\n",
        "\n",
        ".**Why Are Tuples Immutable?**\n",
        "\n",
        ".Tuples are designed to hold data that should not change — like coordinates, dates, or fixed settings. This immutability helps:\n",
        "\n",
        "\n",
        "1. Prevent accidental changes\n",
        "\n",
        "2. Improve performance and memory usage\n",
        "\n",
        "3. Allow tuples to be used as dictionary keys or set elements (they must be hashable)"
      ],
      "metadata": {
        "id": "poGOVj-_G5ul"
      }
    },
    {
      "cell_type": "markdown",
      "source": [
        "# Q16. What is a nested dictionary, and give an example of its use case3"
      ],
      "metadata": {
        "id": "Fq3isP0YHjzG"
      }
    },
    {
      "cell_type": "markdown",
      "source": [
        ".A nested dictionary is a dictionary inside another dictionary.\n",
        "\n",
        ".It allows you to store complex, structured data, like a group of dictionaries, all connected to a main dictionary.\n",
        "\n",
        ".**Example: Student Records (Use Case)**\n",
        "\n",
        ".Let’s say you're building a school management system. You want to store information about students, like their name, age, and grades.\n",
        "\n",
        "\n"
      ],
      "metadata": {
        "id": "nDNkdVFlHsce"
      }
    },
    {
      "cell_type": "markdown",
      "source": [
        "# Q17. Describe the time complexity of accessing elements in a dictionary"
      ],
      "metadata": {
        "id": "g8vdpxGTIKwv"
      }
    },
    {
      "cell_type": "markdown",
      "source": [
        ".In Python, a dictionary (dict) is a hash table–based data structure that stores key-value pairs.\n",
        "\n",
        ".**Explanation:**\n",
        "\n",
        ".Average Case — O(1) (Constant Time)\n",
        "\n",
        ".Python uses hashing to find the key quickly.\n",
        "\n",
        "The hash function maps the key to a location (bucket) in memory.\n",
        "\n",
        "So Python doesn’t need to search through all keys — it jumps straight to the value.\n",
        "\n",
        ".**Worst Case — O(n)**\n",
        "\n",
        ".Happens rarely, when there are many hash collisions (multiple keys go to the same bucket)\n",
        "\n",
        ".Then Python has to check through the collided items, which can take longer.\n",
        "\n"
      ],
      "metadata": {
        "id": "rcaVZVhoIRvm"
      }
    },
    {
      "cell_type": "markdown",
      "source": [
        "# Q18. In what situations are lists preferred over dictionaries ?"
      ],
      "metadata": {
        "id": "JVv-_6xAJCvS"
      }
    },
    {
      "cell_type": "markdown",
      "source": [
        "**.When Order Matters**\n",
        "\n",
        ".Lists maintain the order of elements based on their position (index). If you need to access or work with elements in a specific order, use a list.\n",
        "\n",
        ".colors = [\"red\", \"green\", \"blue\"]\n",
        "\n",
        "print(colors[0])  # Output: \"red\"\n",
        "\n",
        ".**When You Only Need Values (Not Key-Value Pairs)**\n",
        "\n",
        ".Lists store single values, not pairs. If you don’t need to associate values with keys, a list is simpler and cleaner.\n",
        "\n",
        ".scores = [85, 90, 78]  # Just a list of numbers\n",
        "\n",
        ".**When You Need to Store Duplicates**\n",
        "\n",
        ".Lists allow duplicate values. Dictionaries do not allow duplicate keys.\n",
        "\n",
        ".fruits = [\"apple\", \"banana\", \"apple\", \"orange\"]\n",
        "\n",
        "\n"
      ],
      "metadata": {
        "id": "qAIDkIJqJLTG"
      }
    },
    {
      "cell_type": "markdown",
      "source": [
        "# Q19.Why are dictionaries considered unordered, and how does that affect data retrieval ?"
      ],
      "metadata": {
        "id": "tt1DtK__KIBd"
      }
    },
    {
      "cell_type": "markdown",
      "source": [
        ".**Before Python 3.7:**\n",
        "\n",
        ".Dictionaries were unordered collections, meaning:\n",
        "\n",
        "The order of items (key-value pairs) was not guaranteed.\n",
        "\n",
        "You couldn’t rely on the items being returned in the same order you added them.\n",
        "\n",
        ".**What Changed in Python 3.7+?**\n",
        "\n",
        ".tarting from Python 3.7, dictionaries preserve insertion order as an implementation detail — and in Python 3.8+, it's an official part of the language.\n",
        "\n",
        ".**How Does This Affect Data Retrieval?**\n",
        "\n",
        ". Key-Based Lookup Is Always Fast (O(1))\n",
        "\n",
        "Order doesn't affect how you get a value.\n",
        "\n",
        "You retrieve data using keys, not positions.\n"
      ],
      "metadata": {
        "id": "J5RV7G3nKPJ7"
      }
    },
    {
      "cell_type": "markdown",
      "source": [
        "# Q20.Explain the difference between a list and a dictionary in terms of data retrieval."
      ],
      "metadata": {
        "id": "ydbHnlk5LBMl"
      }
    },
    {
      "cell_type": "markdown",
      "source": [
        "**1.List**\n",
        "\n",
        ".A list in Python is an ordered collection of items.\n",
        "Each item is accessed by its index (position), starting from 0.\n",
        "\n",
        ".**Explanation:**\n",
        "\n",
        ".Think of a list like a row of boxes.\n",
        "\n",
        "Each box (item) has a number (index).\n",
        "\n",
        "You access a value using that number.\n",
        "\n",
        "**2.Dictionary**\n",
        "\n",
        ".A dictionary in Python is a collection of key-value pairs.\n",
        "You access items by their key, not by index.\n",
        "\n",
        ".**Explanation:**\n",
        "\n",
        ".Think of a dictionary like a real dictionary book.\n",
        "\n",
        "You search for a word (key), and get its definition (value)."
      ],
      "metadata": {
        "id": "ZuZa7YODLIj8"
      }
    },
    {
      "cell_type": "markdown",
      "source": [
        "# Practical Questions"
      ],
      "metadata": {
        "id": "kbqS7Axl8I59"
      }
    },
    {
      "cell_type": "markdown",
      "source": [
        "# Q1. Write a code to create a string with your name and print it."
      ],
      "metadata": {
        "id": "Pc0BqWov8RrS"
      }
    },
    {
      "cell_type": "code",
      "source": [
        "my_name= \"Md fazal\"\n",
        "print(\"my name is\",my_name)"
      ],
      "metadata": {
        "colab": {
          "base_uri": "https://localhost:8080/"
        },
        "id": "0SVi2aqr8c_6",
        "outputId": "463f3586-cc75-45a6-918c-ecc8160d0e78"
      },
      "execution_count": null,
      "outputs": [
        {
          "output_type": "stream",
          "name": "stdout",
          "text": [
            "my name is Md fazal\n"
          ]
        }
      ]
    },
    {
      "cell_type": "markdown",
      "source": [
        "# Q2. Write a code to find the length of the string \"Hello World\""
      ],
      "metadata": {
        "id": "dkxBZoNk9N0J"
      }
    },
    {
      "cell_type": "code",
      "source": [
        "str=\"hello world\"\n",
        "print(str)\n",
        "len(str)"
      ],
      "metadata": {
        "id": "QByIZE9IGyjK",
        "colab": {
          "base_uri": "https://localhost:8080/"
        },
        "outputId": "20863c05-c0fb-4080-a889-eb6ce528d62f"
      },
      "execution_count": null,
      "outputs": [
        {
          "output_type": "stream",
          "name": "stdout",
          "text": [
            "hello world\n"
          ]
        },
        {
          "output_type": "execute_result",
          "data": {
            "text/plain": [
              "11"
            ]
          },
          "metadata": {},
          "execution_count": 4
        }
      ]
    },
    {
      "cell_type": "markdown",
      "source": [
        "# Q3.Write a code to slice the first 3 characters from the string \"Python Programming\""
      ],
      "metadata": {
        "id": "UaTDGapZ9si6"
      }
    },
    {
      "cell_type": "code",
      "source": [
        "a = \"fazal\"\n",
        "a[:3]"
      ],
      "metadata": {
        "colab": {
          "base_uri": "https://localhost:8080/",
          "height": 35
        },
        "id": "rWXY8Fp890TN",
        "outputId": "5776a872-773f-4253-e61b-13ab0e9c5331"
      },
      "execution_count": null,
      "outputs": [
        {
          "output_type": "execute_result",
          "data": {
            "text/plain": [
              "'faz'"
            ],
            "application/vnd.google.colaboratory.intrinsic+json": {
              "type": "string"
            }
          },
          "metadata": {},
          "execution_count": 7
        }
      ]
    },
    {
      "cell_type": "markdown",
      "source": [
        "# Q4. Write a code to convert the string \"hello\" to uppercase"
      ],
      "metadata": {
        "id": "KJRnY7SW-4Kl"
      }
    },
    {
      "cell_type": "code",
      "source": [
        "str =\"hello\""
      ],
      "metadata": {
        "id": "pVbkt4_C92NV"
      },
      "execution_count": null,
      "outputs": []
    },
    {
      "cell_type": "code",
      "source": [
        "str"
      ],
      "metadata": {
        "colab": {
          "base_uri": "https://localhost:8080/",
          "height": 35
        },
        "id": "7n2_Xh96AmSz",
        "outputId": "73b67572-6666-4a03-824b-dca2d8351d90"
      },
      "execution_count": null,
      "outputs": [
        {
          "output_type": "execute_result",
          "data": {
            "text/plain": [
              "'hello'"
            ],
            "application/vnd.google.colaboratory.intrinsic+json": {
              "type": "string"
            }
          },
          "metadata": {},
          "execution_count": 9
        }
      ]
    },
    {
      "cell_type": "code",
      "source": [
        "str.upper()"
      ],
      "metadata": {
        "colab": {
          "base_uri": "https://localhost:8080/",
          "height": 35
        },
        "id": "kI3WsuaHAnyG",
        "outputId": "a5763069-fccd-416f-c2e8-12ef1a2aaa3f"
      },
      "execution_count": null,
      "outputs": [
        {
          "output_type": "execute_result",
          "data": {
            "text/plain": [
              "'HELLO'"
            ],
            "application/vnd.google.colaboratory.intrinsic+json": {
              "type": "string"
            }
          },
          "metadata": {},
          "execution_count": 11
        }
      ]
    },
    {
      "cell_type": "markdown",
      "source": [
        "# Q5.Write a code to replace the word \"apple\" with \"orange\" in the string \"I like apple\""
      ],
      "metadata": {
        "id": "lIjz0L7dA9ft"
      }
    },
    {
      "cell_type": "code",
      "source": [
        "text=\"i like apple\"\n",
        "new_text=text.replace(\"apple\",\"orange\")\n",
        "print(new_text)"
      ],
      "metadata": {
        "colab": {
          "base_uri": "https://localhost:8080/"
        },
        "id": "66-95YOeA2Pf",
        "outputId": "3cf8479d-5fef-4465-e868-92367e72f51d"
      },
      "execution_count": null,
      "outputs": [
        {
          "output_type": "stream",
          "name": "stdout",
          "text": [
            "i like orange\n"
          ]
        }
      ]
    },
    {
      "cell_type": "markdown",
      "source": [
        "# Q6.Write a code to create a list with numbers 1 to 5 and print it"
      ],
      "metadata": {
        "id": "mPCe-ec5JLZJ"
      }
    },
    {
      "cell_type": "code",
      "source": [
        "num=[1,2,3,4,5]\n",
        "print(num)"
      ],
      "metadata": {
        "colab": {
          "base_uri": "https://localhost:8080/"
        },
        "id": "jwibHUEFBghh",
        "outputId": "0f1aeb6b-8804-44b8-e933-829367401246"
      },
      "execution_count": null,
      "outputs": [
        {
          "output_type": "stream",
          "name": "stdout",
          "text": [
            "[1, 2, 3, 4, 5]\n"
          ]
        }
      ]
    },
    {
      "cell_type": "markdown",
      "source": [
        "## Q7. Write a code to append the number 10 to the list [1, 2, 3, 4]"
      ],
      "metadata": {
        "id": "GpC_d8eFJlJ1"
      }
    },
    {
      "cell_type": "code",
      "source": [
        "num=[1,2,3,4]\n",
        "num.append(10)"
      ],
      "metadata": {
        "id": "b6bIZc4eBiAL"
      },
      "execution_count": null,
      "outputs": []
    },
    {
      "cell_type": "code",
      "source": [
        "num"
      ],
      "metadata": {
        "colab": {
          "base_uri": "https://localhost:8080/"
        },
        "id": "WF8k2SN9KERI",
        "outputId": "8df16e79-8482-4c9b-804b-ce4b29c3c5cb"
      },
      "execution_count": null,
      "outputs": [
        {
          "output_type": "execute_result",
          "data": {
            "text/plain": [
              "[1, 2, 3, 4, 10]"
            ]
          },
          "metadata": {},
          "execution_count": 18
        }
      ]
    },
    {
      "cell_type": "markdown",
      "source": [
        "# Q8. Write a code to remove the number 3 from the list [1, 2, 3, 4, 5]"
      ],
      "metadata": {
        "id": "twONUBrMKIJ-"
      }
    },
    {
      "cell_type": "code",
      "source": [
        "a=[1,2,3,4,5]\n",
        "a.remove(3)"
      ],
      "metadata": {
        "id": "XGuYBDFjKFSw"
      },
      "execution_count": null,
      "outputs": []
    },
    {
      "cell_type": "code",
      "source": [
        "a"
      ],
      "metadata": {
        "colab": {
          "base_uri": "https://localhost:8080/"
        },
        "id": "yhwWpti1KYoX",
        "outputId": "2cb5d0ca-cf60-43dd-e83d-28000d37fe01"
      },
      "execution_count": null,
      "outputs": [
        {
          "output_type": "execute_result",
          "data": {
            "text/plain": [
              "[1, 2, 4, 5]"
            ]
          },
          "metadata": {},
          "execution_count": 20
        }
      ]
    },
    {
      "cell_type": "markdown",
      "source": [
        "# Q9.Write a code to access the second element in the list ['a', 'b', 'c', 'd']"
      ],
      "metadata": {
        "id": "EA7SGh8wKatO"
      }
    },
    {
      "cell_type": "code",
      "source": [
        "list=[\"a\",\"b\",\"c\",\"d\"]\n",
        "second_element=list[1]\n",
        "print(\"the second element is:\",second_element)"
      ],
      "metadata": {
        "colab": {
          "base_uri": "https://localhost:8080/"
        },
        "id": "tlXdr0FLKZZq",
        "outputId": "305ddbc2-af5a-4897-f554-bddc32e6572b"
      },
      "execution_count": null,
      "outputs": [
        {
          "output_type": "stream",
          "name": "stdout",
          "text": [
            "the second element is: b\n"
          ]
        }
      ]
    },
    {
      "cell_type": "markdown",
      "source": [
        "# Q10. Write a code to reverse the list [10, 20, 30, 40, 50]."
      ],
      "metadata": {
        "id": "tyf-fjwjLkCX"
      }
    },
    {
      "cell_type": "code",
      "source": [
        "num=[10,20,30,40,50]\n",
        "num.reverse()"
      ],
      "metadata": {
        "id": "U47hyCChK5AD"
      },
      "execution_count": null,
      "outputs": []
    },
    {
      "cell_type": "code",
      "source": [
        "num"
      ],
      "metadata": {
        "colab": {
          "base_uri": "https://localhost:8080/"
        },
        "id": "g4IgohaKL0ES",
        "outputId": "0d258324-7b23-4347-e79a-13eae68a4d02"
      },
      "execution_count": null,
      "outputs": [
        {
          "output_type": "execute_result",
          "data": {
            "text/plain": [
              "[50, 40, 30, 20, 10]"
            ]
          },
          "metadata": {},
          "execution_count": 24
        }
      ]
    },
    {
      "cell_type": "markdown",
      "source": [
        "# Q11.Write a code to create a tuple with the elements 100, 200, 300 and print it."
      ],
      "metadata": {
        "id": "_f_OtsrKL9VU"
      }
    },
    {
      "cell_type": "code",
      "source": [
        "num = (100,200,300)\n",
        "print(num)"
      ],
      "metadata": {
        "colab": {
          "base_uri": "https://localhost:8080/"
        },
        "id": "1EIjQ6PnL3Uy",
        "outputId": "2dc7194d-0d51-44c5-95e1-8cc90a3ea7ee"
      },
      "execution_count": null,
      "outputs": [
        {
          "output_type": "stream",
          "name": "stdout",
          "text": [
            "(100, 200, 300)\n"
          ]
        }
      ]
    },
    {
      "cell_type": "markdown",
      "source": [
        "# Q12. Write a code to access the second-to-last element of the tuple ('red', 'green', 'blue', 'yellow')."
      ],
      "metadata": {
        "id": "5L9PUAJYMcMj"
      }
    },
    {
      "cell_type": "code",
      "source": [
        "text=('red','green','blue','yellow')\n",
        "second_to_last=text[-2]\n",
        "print(second_to_last)"
      ],
      "metadata": {
        "colab": {
          "base_uri": "https://localhost:8080/"
        },
        "id": "NC_jdAikMO9w",
        "outputId": "765ae3c9-25c3-4f2a-ec9a-fbd1c5782e76"
      },
      "execution_count": null,
      "outputs": [
        {
          "output_type": "stream",
          "name": "stdout",
          "text": [
            "blue\n"
          ]
        }
      ]
    },
    {
      "cell_type": "markdown",
      "source": [
        "# Q13. Write a code to find the minimum number in the tuple (10, 20, 5, 15)."
      ],
      "metadata": {
        "id": "d7KF24T0NYdV"
      }
    },
    {
      "cell_type": "code",
      "source": [
        "num = (10,20,5,15)\n",
        "minimum_num=min(num)\n",
        "print(minimum_num)\n"
      ],
      "metadata": {
        "colab": {
          "base_uri": "https://localhost:8080/"
        },
        "id": "kB7REOjaMTkp",
        "outputId": "efdbce15-15fa-48f1-853b-0e5203849a75"
      },
      "execution_count": null,
      "outputs": [
        {
          "output_type": "stream",
          "name": "stdout",
          "text": [
            "5\n"
          ]
        }
      ]
    },
    {
      "cell_type": "markdown",
      "source": [
        "# Q14.. Write a code to find the index of the element \"cat\" in the tuple ('dog', 'cat', 'rabbit')."
      ],
      "metadata": {
        "id": "FlSMAthtOVcL"
      }
    },
    {
      "cell_type": "code",
      "source": [
        "animal=('dog','cat','rabbit')\n",
        "animal.index(\"cat\")"
      ],
      "metadata": {
        "colab": {
          "base_uri": "https://localhost:8080/"
        },
        "id": "v0WDbhl3NzzW",
        "outputId": "44993222-9033-45c0-ae15-7ad6739a371f"
      },
      "execution_count": null,
      "outputs": [
        {
          "output_type": "execute_result",
          "data": {
            "text/plain": [
              "1"
            ]
          },
          "metadata": {},
          "execution_count": 34
        }
      ]
    },
    {
      "cell_type": "markdown",
      "source": [
        "# Q15. Write a code to create a tuple containing three different fruits and check if \"kiwi\" is in it."
      ],
      "metadata": {
        "id": "kpy5dyzGPC5i"
      }
    },
    {
      "cell_type": "code",
      "source": [
        "fruits=('apple','mango','banana')\n",
        "\n",
        "if 'kiwi' in fruits:\n",
        "  print('yes')\n",
        "else:\n",
        "  print('no')"
      ],
      "metadata": {
        "colab": {
          "base_uri": "https://localhost:8080/"
        },
        "id": "ofRWeEbnOpkA",
        "outputId": "50d637a1-e27f-46a5-c98f-8ddb180c77ae"
      },
      "execution_count": null,
      "outputs": [
        {
          "output_type": "stream",
          "name": "stdout",
          "text": [
            "no\n"
          ]
        }
      ]
    },
    {
      "cell_type": "markdown",
      "source": [
        "# Q16.. Write a code to create a set with the elements 'a', 'b', 'c' and print it."
      ],
      "metadata": {
        "id": "nGA7CPXhq355"
      }
    },
    {
      "cell_type": "code",
      "source": [
        "num = {\"a\",\"b\",\"c\"}\n",
        "print(num)"
      ],
      "metadata": {
        "id": "ge6vD0ctPyvp",
        "colab": {
          "base_uri": "https://localhost:8080/"
        },
        "outputId": "20c7ab92-b207-4cb2-9191-c902dba4f60b"
      },
      "execution_count": 39,
      "outputs": [
        {
          "output_type": "stream",
          "name": "stdout",
          "text": [
            "{'b', 'c', 'a'}\n"
          ]
        }
      ]
    },
    {
      "cell_type": "code",
      "source": [
        "type(num)"
      ],
      "metadata": {
        "colab": {
          "base_uri": "https://localhost:8080/"
        },
        "id": "JtWcJu7SrKKl",
        "outputId": "9f99c1dc-4a43-4c18-bca7-fb4180e05b35"
      },
      "execution_count": 40,
      "outputs": [
        {
          "output_type": "execute_result",
          "data": {
            "text/plain": [
              "set"
            ]
          },
          "metadata": {},
          "execution_count": 40
        }
      ]
    },
    {
      "cell_type": "markdown",
      "source": [
        "# Q17. Write a code to clear all elements from the set {1, 2, 3, 4, 5}."
      ],
      "metadata": {
        "id": "VCKGpbourX0E"
      }
    },
    {
      "cell_type": "code",
      "source": [
        "num = {1,2,3,4,5}\n",
        "print(num)"
      ],
      "metadata": {
        "colab": {
          "base_uri": "https://localhost:8080/"
        },
        "id": "3GW12K1zrTjV",
        "outputId": "1908ed3d-e7e3-4179-f761-8d498b1a2801"
      },
      "execution_count": 41,
      "outputs": [
        {
          "output_type": "stream",
          "name": "stdout",
          "text": [
            "{1, 2, 3, 4, 5}\n"
          ]
        }
      ]
    },
    {
      "cell_type": "code",
      "source": [
        "num.clear()"
      ],
      "metadata": {
        "id": "yl7iFNo0rnX1"
      },
      "execution_count": 44,
      "outputs": []
    },
    {
      "cell_type": "code",
      "source": [
        "num"
      ],
      "metadata": {
        "colab": {
          "base_uri": "https://localhost:8080/"
        },
        "id": "Q59ibJxRrwZ8",
        "outputId": "02773dd6-46c6-41c6-9ab9-93b9489b27b3"
      },
      "execution_count": 45,
      "outputs": [
        {
          "output_type": "execute_result",
          "data": {
            "text/plain": [
              "set()"
            ]
          },
          "metadata": {},
          "execution_count": 45
        }
      ]
    },
    {
      "cell_type": "markdown",
      "source": [
        "# Q18. Write a code to remove the element 4 from the set {1, 2, 3, 4}."
      ],
      "metadata": {
        "id": "iwovrs-9sEhw"
      }
    },
    {
      "cell_type": "code",
      "source": [
        "number = {1,2,3,4}\n",
        "number"
      ],
      "metadata": {
        "colab": {
          "base_uri": "https://localhost:8080/"
        },
        "id": "qvHlrEE0r7_H",
        "outputId": "37193d87-6386-4cd4-993d-496c9f5209de"
      },
      "execution_count": 46,
      "outputs": [
        {
          "output_type": "execute_result",
          "data": {
            "text/plain": [
              "{1, 2, 3, 4}"
            ]
          },
          "metadata": {},
          "execution_count": 46
        }
      ]
    },
    {
      "cell_type": "code",
      "source": [
        "number.remove(4)"
      ],
      "metadata": {
        "id": "Mt4U3E3wsSmS"
      },
      "execution_count": 47,
      "outputs": []
    },
    {
      "cell_type": "code",
      "source": [
        "number"
      ],
      "metadata": {
        "colab": {
          "base_uri": "https://localhost:8080/"
        },
        "id": "UAtSFBCYsbUq",
        "outputId": "5573ef67-3d49-48ca-b928-08ccde00e2ea"
      },
      "execution_count": 48,
      "outputs": [
        {
          "output_type": "execute_result",
          "data": {
            "text/plain": [
              "{1, 2, 3}"
            ]
          },
          "metadata": {},
          "execution_count": 48
        }
      ]
    },
    {
      "cell_type": "markdown",
      "source": [
        "# Q19. Write a code to find the union of two sets {1, 2, 3} and {3, 4, 5}."
      ],
      "metadata": {
        "id": "iKdLaH4LseOc"
      }
    },
    {
      "cell_type": "code",
      "source": [
        "set1={1,2,3}\n",
        "set2={3,4,5}\n",
        "union_of_set=set1.union(set2)\n",
        "print(union_of_set)"
      ],
      "metadata": {
        "colab": {
          "base_uri": "https://localhost:8080/"
        },
        "id": "nBhdU0z-scok",
        "outputId": "f51f0940-e683-41ef-f711-2db20911ec7e"
      },
      "execution_count": 49,
      "outputs": [
        {
          "output_type": "stream",
          "name": "stdout",
          "text": [
            "{1, 2, 3, 4, 5}\n"
          ]
        }
      ]
    },
    {
      "cell_type": "markdown",
      "source": [
        "# Q20. Write a code to find the intersection of two sets {1, 2, 3} and {2, 3, 4}"
      ],
      "metadata": {
        "id": "AGR51KP6tFgf"
      }
    },
    {
      "cell_type": "code",
      "source": [
        "set1={1,2,3}\n",
        "set2={2,3,4}\n",
        "intersection_set=set1.intersection(set2)\n",
        "print(intersection_set)"
      ],
      "metadata": {
        "colab": {
          "base_uri": "https://localhost:8080/"
        },
        "id": "WXk9p4UOtA-e",
        "outputId": "e57eafe2-1d90-4e39-ce3a-ba5a43d9bf96"
      },
      "execution_count": 51,
      "outputs": [
        {
          "output_type": "stream",
          "name": "stdout",
          "text": [
            "{2, 3}\n"
          ]
        }
      ]
    },
    {
      "cell_type": "markdown",
      "source": [
        "# Q21.Write a code to create a dictionary with the keys \"name\", \"age\", and \"city\", and print it."
      ],
      "metadata": {
        "id": "hKyd-_dzuXRl"
      }
    },
    {
      "cell_type": "code",
      "source": [
        "my_dic={\"name\":\"fazal\",\"age\":\"22\",\"city\":\"siwan\"}\n",
        "print(my_dic)"
      ],
      "metadata": {
        "colab": {
          "base_uri": "https://localhost:8080/"
        },
        "id": "qclykrunuQ5m",
        "outputId": "d72084c8-ff86-4d8b-dde2-c07d5cc3369c"
      },
      "execution_count": 1,
      "outputs": [
        {
          "output_type": "stream",
          "name": "stdout",
          "text": [
            "{'name': 'fazal', 'age': '22', 'city': 'siwan'}\n"
          ]
        }
      ]
    },
    {
      "cell_type": "markdown",
      "source": [
        "# Q22. Write a code to add a new key-value pair \"country\": \"USA\" to the dictionary {'name': 'John', 'age': 25}."
      ],
      "metadata": {
        "id": "riqK_Cgr-Gl9"
      }
    },
    {
      "cell_type": "code",
      "source": [
        "my_dic={'name':'john','age':25}\n",
        "my_dic['country']=\"usa\"\n",
        "print(my_dic)"
      ],
      "metadata": {
        "colab": {
          "base_uri": "https://localhost:8080/"
        },
        "id": "4WCxeYYdutcs",
        "outputId": "da45e627-f3a4-4cc1-8a74-c07aca1e8ea8"
      },
      "execution_count": 2,
      "outputs": [
        {
          "output_type": "stream",
          "name": "stdout",
          "text": [
            "{'name': 'john', 'age': 25, 'country': 'usa'}\n"
          ]
        }
      ]
    },
    {
      "cell_type": "markdown",
      "source": [
        "# Q23. Write a code to access the value associated with the key \"name\" in the dictionary {'name': 'Alice', 'age': 30}."
      ],
      "metadata": {
        "id": "6qVkHAzd-y4F"
      }
    },
    {
      "cell_type": "code",
      "source": [
        "my_dic={'name':'Alice','age':30}\n",
        "name_value=my_dic['name']\n",
        "print(name_value)"
      ],
      "metadata": {
        "colab": {
          "base_uri": "https://localhost:8080/"
        },
        "id": "CHgOYgQzu-pz",
        "outputId": "f0c97b30-a00e-4745-b5e2-ac3e92c5bdaf"
      },
      "execution_count": 3,
      "outputs": [
        {
          "output_type": "stream",
          "name": "stdout",
          "text": [
            "Alice\n"
          ]
        }
      ]
    },
    {
      "cell_type": "markdown",
      "source": [
        "# Q24. Write a code to remove the key \"age\" from the dictionary {'name': 'Bob', 'age': 22, 'city': 'New York'}."
      ],
      "metadata": {
        "id": "PvdSTY3W_bWW"
      }
    },
    {
      "cell_type": "code",
      "source": [
        "information={'name':'Bob','age':22,'city':'New York'}\n",
        "information.pop(\"age\")\n",
        "print(information)"
      ],
      "metadata": {
        "colab": {
          "base_uri": "https://localhost:8080/"
        },
        "id": "kMGo_ezD_aVV",
        "outputId": "116949b0-db74-4469-ed49-7f99fc123d88"
      },
      "execution_count": 4,
      "outputs": [
        {
          "output_type": "stream",
          "name": "stdout",
          "text": [
            "{'name': 'Bob', 'city': 'New York'}\n"
          ]
        }
      ]
    },
    {
      "cell_type": "markdown",
      "source": [
        "# Q25. Write a code to check if the key \"city\" exists in the dictionary {'name': 'Alice', 'city': 'Paris'}."
      ],
      "metadata": {
        "id": "TVVXbcAuAJ1_"
      }
    },
    {
      "cell_type": "code",
      "source": [
        "person={\"name\":\"Alice\",\"city\":\"Paris\"}\n",
        "if \"city\" in person:\n",
        "  print(\"city exists\")\n",
        "\n",
        "else:\n",
        "  print(\"city does not exist\")"
      ],
      "metadata": {
        "colab": {
          "base_uri": "https://localhost:8080/"
        },
        "id": "jxUUhCppAIIO",
        "outputId": "86156bce-fdc5-41dc-819a-1259673be295"
      },
      "execution_count": 5,
      "outputs": [
        {
          "output_type": "stream",
          "name": "stdout",
          "text": [
            "city exists\n"
          ]
        }
      ]
    },
    {
      "cell_type": "markdown",
      "source": [
        "# Q26.Write a code to create a list, a tuple, and a dictionary, and print them all.\n"
      ],
      "metadata": {
        "id": "cqjUA1ikA5mw"
      }
    },
    {
      "cell_type": "code",
      "source": [
        "my_list=[1,2,3,4,5]\n",
        "my_tuple=(1,2,3,4,4)\n",
        "my_dic={'name':'fazal','age':22}\n",
        "print(my_list)\n",
        "print(my_tuple)\n",
        "print(my_dic)"
      ],
      "metadata": {
        "colab": {
          "base_uri": "https://localhost:8080/"
        },
        "id": "klVPIP4cA27B",
        "outputId": "6989c94b-5148-406d-95fd-412403f56740"
      },
      "execution_count": 6,
      "outputs": [
        {
          "output_type": "stream",
          "name": "stdout",
          "text": [
            "[1, 2, 3, 4, 5]\n",
            "(1, 2, 3, 4, 4)\n",
            "{'name': 'fazal', 'age': 22}\n"
          ]
        }
      ]
    },
    {
      "cell_type": "markdown",
      "source": [
        "# Q27. Write a code to create a list of 5 random numbers between 1 and 100, sort it in ascending order, and print the result.(repplaced)\n"
      ],
      "metadata": {
        "id": "dH24YvAFBm2H"
      }
    },
    {
      "cell_type": "code",
      "source": [
        "import random\n",
        "\n",
        "numbers = [random.randint(1, 100) for _ in range(5)]\n",
        "\n",
        "numbers.sort()\n",
        "\n",
        "print(\"Sorted list of random numbers:\", numbers)\n"
      ],
      "metadata": {
        "colab": {
          "base_uri": "https://localhost:8080/"
        },
        "id": "SmSALflfBl3k",
        "outputId": "dca44ccb-128a-4197-db06-f30c4d32c6e0"
      },
      "execution_count": 7,
      "outputs": [
        {
          "output_type": "stream",
          "name": "stdout",
          "text": [
            "Sorted list of random numbers: [7, 8, 22, 36, 78]\n"
          ]
        }
      ]
    },
    {
      "cell_type": "markdown",
      "source": [
        "# Q28. Write a code to create a list with strings and print the element at the third index.\n"
      ],
      "metadata": {
        "id": "lmgGgt4UChiH"
      }
    },
    {
      "cell_type": "code",
      "source": [
        "my_list=[1,2,\"fazal\",\"md\",3+4j,True]\n",
        "\n",
        "print(my_list[3])"
      ],
      "metadata": {
        "colab": {
          "base_uri": "https://localhost:8080/"
        },
        "id": "5SP5ozCpCgQ4",
        "outputId": "321bcb49-862d-4861-faad-087e803d9a33"
      },
      "execution_count": 9,
      "outputs": [
        {
          "output_type": "stream",
          "name": "stdout",
          "text": [
            "md\n"
          ]
        }
      ]
    },
    {
      "cell_type": "markdown",
      "source": [
        "# Q29. Write a code to combine two dictionaries into one and print the result.\n"
      ],
      "metadata": {
        "id": "TuTH5k5EDTFz"
      }
    },
    {
      "cell_type": "code",
      "source": [
        "dict1 = {'name': 'Ajay', 'age': 30}\n",
        "dict2 = {'city': 'siwan', 'country': 'indai'}\n",
        "combined_dict = {**dict1, **dict2}\n",
        "print(combined_dict)"
      ],
      "metadata": {
        "colab": {
          "base_uri": "https://localhost:8080/"
        },
        "id": "U1hQFR_SDOVb",
        "outputId": "611f678f-5218-4e53-a7aa-38dea5edec30"
      },
      "execution_count": 10,
      "outputs": [
        {
          "output_type": "stream",
          "name": "stdout",
          "text": [
            "{'name': 'Ajay', 'age': 30, 'city': 'siwan', 'country': 'indai'}\n"
          ]
        }
      ]
    },
    {
      "cell_type": "markdown",
      "source": [
        "# Q30.Write a code to convert a list of strings into a set."
      ],
      "metadata": {
        "id": "wePJ94FpEHCO"
      }
    },
    {
      "cell_type": "code",
      "source": [
        "fruits = [\"apple\",\"banana\",\"mango\",\"apple\",\"mango\"]\n",
        "fruits_set = set(fruits)\n",
        "print(fruits_set)"
      ],
      "metadata": {
        "colab": {
          "base_uri": "https://localhost:8080/"
        },
        "id": "zOTbCezTEF1k",
        "outputId": "adbcf247-c9d8-4e9d-c1ff-4080fd8f0b04"
      },
      "execution_count": 11,
      "outputs": [
        {
          "output_type": "stream",
          "name": "stdout",
          "text": [
            "{'apple', 'banana', 'mango'}\n"
          ]
        }
      ]
    },
    {
      "cell_type": "code",
      "source": [],
      "metadata": {
        "id": "jnVy4pnXEvrI"
      },
      "execution_count": null,
      "outputs": []
    }
  ]
}